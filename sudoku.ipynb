{
 "cells": [
  {
   "cell_type": "code",
   "execution_count": 16,
   "metadata": {},
   "outputs": [],
   "source": [
    "grid = [[0, 0, 0, 0, 0, 0, 0, 0, 0],\n",
    "        [0, 0, 0, 0, 0, 0, 0, 0, 0],\n",
    "        [0, 0, 0, 0, 0, 0, 0, 0, 0],\n",
    "        [0, 0, 0, 0, 0, 0, 0, 0, 0],\n",
    "        [0, 0, 0, 0, 0, 0, 0, 0, 0],\n",
    "        [0, 0, 0, 0, 0, 0, 0, 0, 0],\n",
    "        [0, 0, 0, 0, 0, 0, 0, 0, 0],\n",
    "        [0, 0, 0, 0, 0, 0, 0, 0, 0],\n",
    "        [1, 0, 2, 0, 0, 0, 0, 0, 0]]"
   ]
  },
  {
   "cell_type": "code",
   "execution_count": 17,
   "metadata": {},
   "outputs": [],
   "source": [
    "import numpy as np\n",
    "\n",
    "def possible(y,x,n):\n",
    "    global grid\n",
    "    for i in range(0, 9):\n",
    "        if grid[y][i] == n:\n",
    "            return False\n",
    "\n",
    "    for i in range(0, 9):\n",
    "        if grid[i][x] == n:\n",
    "            return False\n",
    "    x0 = (x//3) * 3\n",
    "    y0 = (y//3) * 3\n",
    "\n",
    "    for i in range(0, 3):\n",
    "        for j in range(0, 3):\n",
    "            if grid[y0+i][x0+j] == n:\n",
    "                return False\n",
    "\n",
    "    return True\n"
   ]
  },
  {
   "cell_type": "code",
   "execution_count": 18,
   "metadata": {},
   "outputs": [],
   "source": [
    "def solve():\n",
    "    global grid\n",
    "    for y in range(9):\n",
    "        for x in range(9):\n",
    "            if grid[y][x] == 0:\n",
    "                for n in range(1,10):\n",
    "                    if possible(y,x,n):\n",
    "                        grid[y][x] = n\n",
    "                        solve()\n",
    "                        grid[y][x] = 0\n",
    "                return\n",
    "    print(np.matrix(grid))\n"
   ]
  },
  {
   "cell_type": "code",
   "execution_count": 19,
   "metadata": {},
   "outputs": [
    {
     "name": "stdout",
     "output_type": "stream",
     "text": [
      "[[2 1 3 4 5 6 7 8 9]\n",
      " [4 5 6 7 8 9 1 2 3]\n",
      " [7 8 9 1 2 3 4 5 6]\n",
      " [3 2 1 5 4 7 6 9 8]\n",
      " [5 4 7 6 9 8 2 3 1]\n",
      " [6 9 8 2 3 1 5 4 7]\n",
      " [8 6 4 3 1 2 9 7 5]\n",
      " [9 7 5 8 6 4 3 1 2]\n",
      " [1 3 2 9 7 5 8 6 4]]\n",
      "[[2 1 3 4 5 6 7 8 9]\n",
      " [4 5 6 7 8 9 1 2 3]\n",
      " [7 8 9 1 2 3 4 5 6]\n",
      " [3 2 1 5 4 7 6 9 8]\n",
      " [5 4 7 6 9 8 2 3 1]\n",
      " [6 9 8 2 3 1 5 4 7]\n",
      " [8 6 4 3 1 5 9 7 2]\n",
      " [9 7 5 8 6 2 3 1 4]\n",
      " [1 3 2 9 7 4 8 6 5]]\n",
      "[[2 1 3 4 5 6 7 8 9]\n",
      " [4 5 6 7 8 9 1 2 3]\n",
      " [7 8 9 1 2 3 4 5 6]\n",
      " [3 2 1 5 4 7 6 9 8]\n",
      " [5 4 7 6 9 8 2 3 1]\n",
      " [6 9 8 2 3 1 5 4 7]\n",
      " [8 6 4 3 7 2 9 1 5]\n",
      " [9 7 5 8 1 4 3 6 2]\n",
      " [1 3 2 9 6 5 8 7 4]]\n"
     ]
    },
    {
     "ename": "KeyboardInterrupt",
     "evalue": "Interrupted by user",
     "output_type": "error",
     "traceback": [
      "\u001b[1;31m---------------------------------------------------------------------------\u001b[0m",
      "\u001b[1;31mKeyboardInterrupt\u001b[0m                         Traceback (most recent call last)",
      "\u001b[1;32mc:\\Coding\\is-it-an-era-question-mark\\is-it-an-era-question-mark\\sudoku.ipynb Cell 4\u001b[0m in \u001b[0;36m<cell line: 1>\u001b[1;34m()\u001b[0m\n\u001b[1;32m----> <a href='vscode-notebook-cell:/c%3A/Coding/is-it-an-era-question-mark/is-it-an-era-question-mark/sudoku.ipynb#W3sZmlsZQ%3D%3D?line=0'>1</a>\u001b[0m solve()\n",
      "\u001b[1;32mc:\\Coding\\is-it-an-era-question-mark\\is-it-an-era-question-mark\\sudoku.ipynb Cell 4\u001b[0m in \u001b[0;36msolve\u001b[1;34m()\u001b[0m\n\u001b[0;32m      <a href='vscode-notebook-cell:/c%3A/Coding/is-it-an-era-question-mark/is-it-an-era-question-mark/sudoku.ipynb#W3sZmlsZQ%3D%3D?line=6'>7</a>\u001b[0m     \u001b[39mif\u001b[39;00m possible(y,x,n):\n\u001b[0;32m      <a href='vscode-notebook-cell:/c%3A/Coding/is-it-an-era-question-mark/is-it-an-era-question-mark/sudoku.ipynb#W3sZmlsZQ%3D%3D?line=7'>8</a>\u001b[0m         grid[y][x] \u001b[39m=\u001b[39m n\n\u001b[1;32m----> <a href='vscode-notebook-cell:/c%3A/Coding/is-it-an-era-question-mark/is-it-an-era-question-mark/sudoku.ipynb#W3sZmlsZQ%3D%3D?line=8'>9</a>\u001b[0m         solve()\n\u001b[0;32m     <a href='vscode-notebook-cell:/c%3A/Coding/is-it-an-era-question-mark/is-it-an-era-question-mark/sudoku.ipynb#W3sZmlsZQ%3D%3D?line=9'>10</a>\u001b[0m         grid[y][x] \u001b[39m=\u001b[39m \u001b[39m0\u001b[39m\n\u001b[0;32m     <a href='vscode-notebook-cell:/c%3A/Coding/is-it-an-era-question-mark/is-it-an-era-question-mark/sudoku.ipynb#W3sZmlsZQ%3D%3D?line=10'>11</a>\u001b[0m \u001b[39mreturn\u001b[39;00m\n",
      "\u001b[1;32mc:\\Coding\\is-it-an-era-question-mark\\is-it-an-era-question-mark\\sudoku.ipynb Cell 4\u001b[0m in \u001b[0;36msolve\u001b[1;34m()\u001b[0m\n\u001b[0;32m      <a href='vscode-notebook-cell:/c%3A/Coding/is-it-an-era-question-mark/is-it-an-era-question-mark/sudoku.ipynb#W3sZmlsZQ%3D%3D?line=6'>7</a>\u001b[0m     \u001b[39mif\u001b[39;00m possible(y,x,n):\n\u001b[0;32m      <a href='vscode-notebook-cell:/c%3A/Coding/is-it-an-era-question-mark/is-it-an-era-question-mark/sudoku.ipynb#W3sZmlsZQ%3D%3D?line=7'>8</a>\u001b[0m         grid[y][x] \u001b[39m=\u001b[39m n\n\u001b[1;32m----> <a href='vscode-notebook-cell:/c%3A/Coding/is-it-an-era-question-mark/is-it-an-era-question-mark/sudoku.ipynb#W3sZmlsZQ%3D%3D?line=8'>9</a>\u001b[0m         solve()\n\u001b[0;32m     <a href='vscode-notebook-cell:/c%3A/Coding/is-it-an-era-question-mark/is-it-an-era-question-mark/sudoku.ipynb#W3sZmlsZQ%3D%3D?line=9'>10</a>\u001b[0m         grid[y][x] \u001b[39m=\u001b[39m \u001b[39m0\u001b[39m\n\u001b[0;32m     <a href='vscode-notebook-cell:/c%3A/Coding/is-it-an-era-question-mark/is-it-an-era-question-mark/sudoku.ipynb#W3sZmlsZQ%3D%3D?line=10'>11</a>\u001b[0m \u001b[39mreturn\u001b[39;00m\n",
      "    \u001b[1;31m[... skipping similar frames: solve at line 9 (76 times)]\u001b[0m\n",
      "\u001b[1;32mc:\\Coding\\is-it-an-era-question-mark\\is-it-an-era-question-mark\\sudoku.ipynb Cell 4\u001b[0m in \u001b[0;36msolve\u001b[1;34m()\u001b[0m\n\u001b[0;32m      <a href='vscode-notebook-cell:/c%3A/Coding/is-it-an-era-question-mark/is-it-an-era-question-mark/sudoku.ipynb#W3sZmlsZQ%3D%3D?line=6'>7</a>\u001b[0m     \u001b[39mif\u001b[39;00m possible(y,x,n):\n\u001b[0;32m      <a href='vscode-notebook-cell:/c%3A/Coding/is-it-an-era-question-mark/is-it-an-era-question-mark/sudoku.ipynb#W3sZmlsZQ%3D%3D?line=7'>8</a>\u001b[0m         grid[y][x] \u001b[39m=\u001b[39m n\n\u001b[1;32m----> <a href='vscode-notebook-cell:/c%3A/Coding/is-it-an-era-question-mark/is-it-an-era-question-mark/sudoku.ipynb#W3sZmlsZQ%3D%3D?line=8'>9</a>\u001b[0m         solve()\n\u001b[0;32m     <a href='vscode-notebook-cell:/c%3A/Coding/is-it-an-era-question-mark/is-it-an-era-question-mark/sudoku.ipynb#W3sZmlsZQ%3D%3D?line=9'>10</a>\u001b[0m         grid[y][x] \u001b[39m=\u001b[39m \u001b[39m0\u001b[39m\n\u001b[0;32m     <a href='vscode-notebook-cell:/c%3A/Coding/is-it-an-era-question-mark/is-it-an-era-question-mark/sudoku.ipynb#W3sZmlsZQ%3D%3D?line=10'>11</a>\u001b[0m \u001b[39mreturn\u001b[39;00m\n",
      "\u001b[1;32mc:\\Coding\\is-it-an-era-question-mark\\is-it-an-era-question-mark\\sudoku.ipynb Cell 4\u001b[0m in \u001b[0;36msolve\u001b[1;34m()\u001b[0m\n\u001b[0;32m     <a href='vscode-notebook-cell:/c%3A/Coding/is-it-an-era-question-mark/is-it-an-era-question-mark/sudoku.ipynb#W3sZmlsZQ%3D%3D?line=10'>11</a>\u001b[0m             \u001b[39mreturn\u001b[39;00m\n\u001b[0;32m     <a href='vscode-notebook-cell:/c%3A/Coding/is-it-an-era-question-mark/is-it-an-era-question-mark/sudoku.ipynb#W3sZmlsZQ%3D%3D?line=11'>12</a>\u001b[0m \u001b[39mprint\u001b[39m(np\u001b[39m.\u001b[39mmatrix(grid))\n\u001b[1;32m---> <a href='vscode-notebook-cell:/c%3A/Coding/is-it-an-era-question-mark/is-it-an-era-question-mark/sudoku.ipynb#W3sZmlsZQ%3D%3D?line=12'>13</a>\u001b[0m \u001b[39minput\u001b[39;49m(\u001b[39m'\u001b[39;49m\u001b[39mmore?\u001b[39;49m\u001b[39m'\u001b[39;49m)\n",
      "File \u001b[1;32mc:\\Users\\Ayush\\AppData\\Local\\Programs\\Python\\Python39\\lib\\site-packages\\ipykernel\\kernelbase.py:1177\u001b[0m, in \u001b[0;36mKernel.raw_input\u001b[1;34m(self, prompt)\u001b[0m\n\u001b[0;32m   1173\u001b[0m \u001b[39mif\u001b[39;00m \u001b[39mnot\u001b[39;00m \u001b[39mself\u001b[39m\u001b[39m.\u001b[39m_allow_stdin:\n\u001b[0;32m   1174\u001b[0m     \u001b[39mraise\u001b[39;00m StdinNotImplementedError(\n\u001b[0;32m   1175\u001b[0m         \u001b[39m\"\u001b[39m\u001b[39mraw_input was called, but this frontend does not support input requests.\u001b[39m\u001b[39m\"\u001b[39m\n\u001b[0;32m   1176\u001b[0m     )\n\u001b[1;32m-> 1177\u001b[0m \u001b[39mreturn\u001b[39;00m \u001b[39mself\u001b[39;49m\u001b[39m.\u001b[39;49m_input_request(\n\u001b[0;32m   1178\u001b[0m     \u001b[39mstr\u001b[39;49m(prompt),\n\u001b[0;32m   1179\u001b[0m     \u001b[39mself\u001b[39;49m\u001b[39m.\u001b[39;49m_parent_ident[\u001b[39m\"\u001b[39;49m\u001b[39mshell\u001b[39;49m\u001b[39m\"\u001b[39;49m],\n\u001b[0;32m   1180\u001b[0m     \u001b[39mself\u001b[39;49m\u001b[39m.\u001b[39;49mget_parent(\u001b[39m\"\u001b[39;49m\u001b[39mshell\u001b[39;49m\u001b[39m\"\u001b[39;49m),\n\u001b[0;32m   1181\u001b[0m     password\u001b[39m=\u001b[39;49m\u001b[39mFalse\u001b[39;49;00m,\n\u001b[0;32m   1182\u001b[0m )\n",
      "File \u001b[1;32mc:\\Users\\Ayush\\AppData\\Local\\Programs\\Python\\Python39\\lib\\site-packages\\ipykernel\\kernelbase.py:1219\u001b[0m, in \u001b[0;36mKernel._input_request\u001b[1;34m(self, prompt, ident, parent, password)\u001b[0m\n\u001b[0;32m   1216\u001b[0m             \u001b[39mbreak\u001b[39;00m\n\u001b[0;32m   1217\u001b[0m \u001b[39mexcept\u001b[39;00m \u001b[39mKeyboardInterrupt\u001b[39;00m:\n\u001b[0;32m   1218\u001b[0m     \u001b[39m# re-raise KeyboardInterrupt, to truncate traceback\u001b[39;00m\n\u001b[1;32m-> 1219\u001b[0m     \u001b[39mraise\u001b[39;00m \u001b[39mKeyboardInterrupt\u001b[39;00m(\u001b[39m\"\u001b[39m\u001b[39mInterrupted by user\u001b[39m\u001b[39m\"\u001b[39m) \u001b[39mfrom\u001b[39;00m \u001b[39mNone\u001b[39m\n\u001b[0;32m   1220\u001b[0m \u001b[39mexcept\u001b[39;00m \u001b[39mException\u001b[39;00m:\n\u001b[0;32m   1221\u001b[0m     \u001b[39mself\u001b[39m\u001b[39m.\u001b[39mlog\u001b[39m.\u001b[39mwarning(\u001b[39m\"\u001b[39m\u001b[39mInvalid Message:\u001b[39m\u001b[39m\"\u001b[39m, exc_info\u001b[39m=\u001b[39m\u001b[39mTrue\u001b[39;00m)\n",
      "\u001b[1;31mKeyboardInterrupt\u001b[0m: Interrupted by user"
     ]
    }
   ],
   "source": [
    "solve()"
   ]
  },
  {
   "cell_type": "code",
   "execution_count": 1,
   "metadata": {},
   "outputs": [
    {
     "name": "stdout",
     "output_type": "stream",
     "text": [
      "(4,)\n",
      "[1.16063153 3.15819927 2.19381542 2.09540159]\n",
      "(1, 2)\n",
      "firelo\n"
     ]
    }
   ],
   "source": [
    "import numpy as np\n",
    "\n",
    "x = np.random.rand(4, 5)\n",
    "\n",
    "y = np.sum(x, axis=1)\n",
    "print(y.shape)\n",
    "print(y)\n",
    "\n",
    "\n",
    "x = np.random.rand(3, 2)\n",
    "\n",
    "y = np.sum(x, axis=0, keepdims=True)\n",
    "print(y.shape)\n",
    "\n",
    "\n",
    "f= 'firelol'\n",
    "\n",
    "print(f[:-1])"
   ]
  },
  {
   "cell_type": "code",
   "execution_count": 4,
   "metadata": {},
   "outputs": [
    {
     "name": "stdout",
     "output_type": "stream",
     "text": [
      "WARNING:tensorflow:From C:\\Users\\Ayush\\AppData\\Local\\Temp\\ipykernel_9640\\1120701775.py:4: is_gpu_available (from tensorflow.python.framework.test_util) is deprecated and will be removed in a future version.\n",
      "Instructions for updating:\n",
      "Use `tf.config.list_physical_devices('GPU')` instead.\n"
     ]
    },
    {
     "data": {
      "text/plain": [
       "True"
      ]
     },
     "execution_count": 4,
     "metadata": {},
     "output_type": "execute_result"
    }
   ],
   "source": [
    "import tensorflow as tf \n",
    "\n",
    "gpu_available = tf.test.is_gpu_available()\n",
    "is_cuda_gpu_available = tf.test.is_gpu_available(cuda_only=True)\n",
    "print(f'{gpu_available = }')\n",
    "print(f'{is_cuda_gpu_available = }')"
   ]
  }
 ],
 "metadata": {
  "kernelspec": {
   "display_name": "Python 3.9.13 64-bit",
   "language": "python",
   "name": "python3"
  },
  "language_info": {
   "codemirror_mode": {
    "name": "ipython",
    "version": 3
   },
   "file_extension": ".py",
   "mimetype": "text/x-python",
   "name": "python",
   "nbconvert_exporter": "python",
   "pygments_lexer": "ipython3",
   "version": "3.9.13"
  },
  "orig_nbformat": 4,
  "vscode": {
   "interpreter": {
    "hash": "0f1d6d76bb29610e1e5d4d926065c0bc9bed7b411e76a6d673a102b8cdf8cec6"
   }
  }
 },
 "nbformat": 4,
 "nbformat_minor": 2
}
